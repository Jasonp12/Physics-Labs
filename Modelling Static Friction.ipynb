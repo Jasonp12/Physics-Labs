{
 "cells": [
  {
   "cell_type": "code",
   "execution_count": 2,
   "metadata": {
    "collapsed": true
   },
   "outputs": [],
   "source": [
    "%matplotlib inline"
   ]
  },
  {
   "cell_type": "markdown",
   "metadata": {},
   "source": [
    "# Modelling Static Friction"
   ]
  },
  {
   "cell_type": "markdown",
   "metadata": {},
   "source": [
    "### Procedure"
   ]
  },
  {
   "cell_type": "markdown",
   "metadata": {
    "collapsed": true
   },
   "source": [
    "Weigh an object and place it on the table. Using a spring scale, pull the box and measure the force necessary to move it. Place weights, one at a time in increasing order, and measure the force used to overcome static friction each time. "
   ]
  },
  {
   "cell_type": "markdown",
   "metadata": {},
   "source": [
    "$$ Flat Surface $$\n",
    "\n",
    "| Mass (g) \t| Force Applied (N)\t|\n",
    "|-----\t|---\t|\n",
    "| 0     | 0     |\n",
    "| 133.2 |  .5 \t|\n",
    "| +100 \t|  .7 \t|\n",
    "| +200 \t|  1.25 |\n",
    "| +300 \t|  1.75 |\n",
    "| +400 \t|  1.9 \t|\n",
    "| +500  |  2.2  | \n",
    "\n",
    "$$ Incline $$\n",
    "\n",
    "| Mass (g) \t| Force Applied (N)\t|\n",
    "|-----\t|---\t|\n",
    "| 0     |  0    |\n",
    "| 133.2 |  .75 \t|\n",
    "| +100 \t|  1.5 \t|\n",
    "| +200 \t|  2.2  |\n",
    "| +300 \t|  3.2  |\n",
    "| +400 \t|  4.0 \t|\n",
    "| +500  |  4.4  | \n"
   ]
  },
  {
   "cell_type": "code",
   "execution_count": 10,
   "metadata": {
    "collapsed": false
   },
   "outputs": [
    {
     "name": "stdout",
     "output_type": "stream",
     "text": [
      "0.00359999999783 0.483333333332\n"
     ]
    },
    {
     "data": {
      "image/png": "[encoded data removed]",
      "text/plain": [
       "<matplotlib.figure.Figure at 0x7f3f518>"
      ]
     },
     "metadata": {},
     "output_type": "display_data"
    },
    {
     "name": "stdout",
     "output_type": "stream",
     "text": [
      "0.00764285714069 0.764285714285\n"
     ]
    },
    {
     "data": {
      "image/png": "[encoded data removed]",
      "text/plain": [
       "<matplotlib.figure.Figure at 0x7fbfa58>"
      ]
     },
     "metadata": {},
     "output_type": "display_data"
    }
   ],
   "source": [
    "import matplotlib.pyplot as plt\n",
    "import numpy as np\n",
    "from scipy.optimize import curve_fit\n",
    "\n",
    "def model (x ,a, b):\n",
    "    return a*x + b\n",
    "xm = np.linspace(0, 600, 400)\n",
    "x=[0, 100, 200, 300, 400, 500]\n",
    "y=[.5, .7, 1.25, 1.75, 1.9, 2.2]\n",
    "\n",
    "plt.plot(x,y,'.')\n",
    "\n",
    "a,b = curve_fit(model, x, y)[0]\n",
    "print(a,b)\n",
    "plt.plot(xm, model(xm, a, b))\n",
    "plt.xlabel(\"Mass (g)\")\n",
    "plt.ylabel(\"Force Applied (N)\")\n",
    "plt.title(\"Flat Surface\")\n",
    "plt.show()\n",
    "\n",
    "def model (x ,a, b):\n",
    "    return a*x + b\n",
    "xm = np.linspace(0, 600, 400)\n",
    "x=[0, 100, 200, 300, 400, 500]\n",
    "y=[.75, 1.5, 2.2, 3.2, 4, 4.4]\n",
    "\n",
    "plt.plot(x,y,'.')\n",
    "\n",
    "a,b = curve_fit(model, x, y)[0]\n",
    "print(a,b)\n",
    "plt.plot(xm, model(xm, a, b))\n",
    "plt.xlabel(\"Mass (g)\")\n",
    "plt.ylabel(\"Force Applied (N)\")\n",
    "plt.title(\"14 Degree Incline\")\n",
    "plt.show()\n",
    "\n",
    "\n"
   ]
  },
  {
   "cell_type": "markdown",
   "metadata": {
    "collapsed": true
   },
   "source": [
    "### Results"
   ]
  },
  {
   "cell_type": "markdown",
   "metadata": {},
   "source": [
    "Linear equation for static friction on a flat surface: \n",
    "\n",
    "$$ Newtons = 0.0036g + 0.483 $$\n",
    "\n",
    "Linear equation for static friction on the incline:\n",
    "\n",
    "$$ Newtons = 0.00764g + 0.764 $$"
   ]
  },
  {
   "cell_type": "markdown",
   "metadata": {},
   "source": [
    "### Conclusion"
   ]
  },
  {
   "cell_type": "markdown",
   "metadata": {},
   "source": [
    "Through our experiments, we found that there is a linear relationship between the mass being moved and the force required to overcome static friction. Unfortunately, our could not be made more accurate due to imperfect conditions and an inconsistent spring scale. "
   ]
  },
  {
   "cell_type": "markdown",
   "metadata": {},
   "source": [
    "***Darshan Patel, Jason Parra, and Kevin Alvarado***"
   ]
  },
  {
   "cell_type": "code",
   "execution_count": null,
   "metadata": {
    "collapsed": true
   },
   "outputs": [],
   "source": []
  }
 ],
 "metadata": {
  "kernelspec": {
   "display_name": "Python 3",
   "language": "python",
   "name": "python3"
  },
  "language_info": {
   "codemirror_mode": {
    "name": "ipython",
    "version": 3
   },
   "file_extension": ".py",
   "mimetype": "text/x-python",
   "name": "python",
   "nbconvert_exporter": "python",
   "pygments_lexer": "ipython3",
   "version": "3.4.4"
  }
 },
 "nbformat": 4,
 "nbformat_minor": 0
}
