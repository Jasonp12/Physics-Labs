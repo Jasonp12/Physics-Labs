{
 "cells": [
  {
   "cell_type": "markdown",
   "metadata": {},
   "source": [
    "# Modelling Static Friction"
   ]
  },
  {
   "cell_type": "markdown",
   "metadata": {},
   "source": [
    "### Procedure"
   ]
  },
  {
   "cell_type": "markdown",
   "metadata": {
    "collapsed": true
   },
   "source": [
    "Weigh an object and place it on the table. Using a spring scale, pull the box and measure the force necessary to move it. Place weights, one at a time in increasing order, and measure the force used to overcome static friction each time. "
   ]
  },
  {
   "cell_type": "markdown",
   "metadata": {},
   "source": [
    "| Mass (g) \t| Force Applied (N)\t|\n",
    "|-----\t|---\t|\n",
    "| 0 \t|  .35 \t|\n",
    "| 100 \t|  1.0 \t|\n",
    "| 200 \t|  1.5 \t|\n",
    "| 300 \t|  2.8 \t|\n",
    "| 400 \t|  3.6 \t|\n",
    "| 500   |  4.0  | \n",
    "| 600   |  4.8  |\n",
    "| 800   |  6.4  |\n",
    "| 1000  |  7.2  |\n",
    "| 1200  |  8.4  |\n",
    "| 1400  |  10.0 |\n",
    "| 1600  |  11.2 |"
   ]
  },
  {
   "cell_type": "code",
   "execution_count": 2,
   "metadata": {
    "collapsed": true
   },
   "outputs": [],
   "source": [
    "%matplotlib inline"
   ]
  },
  {
   "cell_type": "code",
   "execution_count": 7,
   "metadata": {
    "collapsed": false
   },
   "outputs": [
    {
     "name": "stdout",
     "output_type": "stream",
     "text": [
      "0.00674979457466 0.548055327307\n"
     ]
    },
    {
     "data": {
      "image/png": "[encoded data removed]",
      "text/plain": [
       "<matplotlib.figure.Figure at 0x60a4b70>"
      ]
     },
     "metadata": {},
     "output_type": "display_data"
    }
   ],
   "source": [
    "import matplotlib.pyplot as plt\n",
    "import numpy as np\n",
    "from scipy.optimize import curve_fit\n",
    "\n",
    "def model (x ,a, b):\n",
    "    return a*x + b\n",
    "xm = np.linspace(0, 1800, 400)\n",
    "x=[0,100,200,300,400,500,600,800,1000,1200,1400,1600]\n",
    "y=[.35,1,1.5,2.8,3.6,4,4.8,6.4,7.2,8.4,10,11.2]\n",
    "\n",
    "plt.plot(x,y,'.')\n",
    "\n",
    "a,b = curve_fit(model, x, y)[0]\n",
    "print(a,b)\n",
    "plt.plot(xm, model(xm, a, b))\n",
    "plt.xlabel(\"Mass (g)\")\n",
    "plt.ylabel(\"Force Applied (N)\")\n",
    "plt.show()\n"
   ]
  },
  {
   "cell_type": "markdown",
   "metadata": {
    "collapsed": true
   },
   "source": [
    "### Conclusion"
   ]
  },
  {
   "cell_type": "markdown",
   "metadata": {},
   "source": []
  }
 ],
 "metadata": {
  "kernelspec": {
   "display_name": "Python 3",
   "language": "python",
   "name": "python3"
  },
  "language_info": {
   "codemirror_mode": {
    "name": "ipython",
    "version": 3
   },
   "file_extension": ".py",
   "mimetype": "text/x-python",
   "name": "python",
   "nbconvert_exporter": "python",
   "pygments_lexer": "ipython3",
   "version": "3.4.4"
  }
 },
 "nbformat": 4,
 "nbformat_minor": 0
}
