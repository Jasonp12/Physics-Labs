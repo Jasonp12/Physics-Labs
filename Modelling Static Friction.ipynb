{
 "cells": [
  {
   "cell_type": "code",
   "execution_count": 2,
   "metadata": {
    "collapsed": true
   },
   "outputs": [],
   "source": [
    "%matplotlib inline"
   ]
  },
  {
   "cell_type": "markdown",
   "metadata": {},
   "source": [
    "# Modelling Static Friction"
   ]
  },
  {
   "cell_type": "markdown",
   "metadata": {},
   "source": [
    "### Procedure"
   ]
  },
  {
   "cell_type": "markdown",
   "metadata": {
    "collapsed": true
   },
   "source": [
    "Weigh an object and place it on the table. Using a spring scale, pull the box and measure the force necessary to move it. Place weights, one at a time in increasing order, and measure the force used to overcome static friction each time. Repeat the experiment on an incline."
   ]
  },
  {
   "cell_type": "markdown",
   "metadata": {},
   "source": [
    "![friction image](http://3.bp.blogspot.com/-IFRbSXlHpjI/Tke-Vp3NE1I/AAAAAAAAABo/2kZuDG8pIwA/s1600/ariena2.png)"
   ]
  },
  {
   "cell_type": "markdown",
   "metadata": {},
   "source": [
    "$$ Flat Surface $$\n",
    "\n",
    "| Mass (g) \t| Force Applied (N)\t|\n",
    "|-----\t|---\t|\n",
    "| 0     |  .5 \t|\n",
    "| 100   |  .7 \t|\n",
    "| 200   |  1.25 |\n",
    "| 300   |  1.75 |\n",
    "| 400\t|  1.9 \t|\n",
    "| 500   |  2.2  | \n",
    "\n",
    "$$ 14° Incline $$\n",
    "\n",
    "| Mass (g) \t| Frictional Force (N)\t|\n",
    "|-----\t|---\t|\n",
    "| 0     |  .75 \t|\n",
    "| 100   |  1.26 |\n",
    "| 200   |  1.72 |\n",
    "| 300   |  2.48 |\n",
    "| 400\t|  3.05 |\n",
    "| 500   |  3.21 | \n",
    "\n",
    "$$ 17.5° Incline $$\n",
    "\n",
    "| Mass (g) \t| Frictional Force (N)\t|\n",
    "|-----\t|---\t|\n",
    "| 0     |  1.05 |\n",
    "| 100   |  1.36 |\n",
    "| 200   |  1.62 |\n",
    "| 300   |  2.48 |\n",
    "| 400\t|  3.25 |\n",
    "| 500   |  3.61 | "
   ]
  },
  {
   "cell_type": "code",
   "execution_count": 3,
   "metadata": {
    "collapsed": false
   },
   "outputs": [
    {
     "name": "stdout",
     "output_type": "stream",
     "text": [
      "0.00359999999783 0.483333333332\n",
      "0.00553171428512 0.848904762052\n",
      "0.00527542856926 0.763142857142\n"
     ]
    },
    {
     "data": {
      "image/png": "[encoded data removed]",
      "text/plain": [
       "<matplotlib.figure.Figure at 0x7b37400>"
      ]
     },
     "metadata": {},
     "output_type": "display_data"
    }
   ],
   "source": [
    "import matplotlib.pyplot as plt\n",
    "import numpy as np\n",
    "from scipy.optimize import curve_fit\n",
    "\n",
    "def model (x ,a, b):\n",
    "    return a*x + b\n",
    "xm = np.linspace(0, 700, 400)\n",
    "x=[0, 100, 200, 300, 400, 500]\n",
    "y=[.5, .7, 1.25, 1.75, 1.9, 2.2]\n",
    "\n",
    "plt.plot(x,y,'b.', label=\"Flat\")\n",
    "\n",
    "a,b = curve_fit(model, x, y)[0]\n",
    "print(a,b)\n",
    "plt.plot(xm, model(xm, a, b))\n",
    "plt.xlabel(\"Mass (g)\")\n",
    "plt.ylabel(\"Force Applied (N)\")\n",
    "\n",
    "def model (x ,a, b):\n",
    "    return a*x + b\n",
    "xm = np.linspace(0, 700, 400)\n",
    "x=[0, 100, 200, 300, 400, 500]\n",
    "y=[1.05, 1.36, 1.626, 2.489, 3.251, 3.615]\n",
    "\n",
    "plt.plot(x,y,'g.', label=\"17.5° incline\")\n",
    "\n",
    "a,b = curve_fit(model, x, y)[0]\n",
    "print(a,b)\n",
    "plt.plot(xm, model(xm, a, b))\n",
    "plt.xlabel(\"Mass (g)\")\n",
    "plt.ylabel(\"Frictional Force (N)\")\n",
    "\n",
    "def model (x ,a, b):\n",
    "    return a*x + b\n",
    "xm = np.linspace(0, 700, 400)\n",
    "x=[0, 100, 200, 300, 400, 500]\n",
    "y=[.75, 1.26, 1.726, 2.489, 3.052, 3.215]\n",
    "\n",
    "plt.plot(x,y,'r.', label=\"14° Incline\")\n",
    "a,b = curve_fit(model, x, y)[0]\n",
    "print(a,b)\n",
    "plt.plot(xm, model(xm, a, b))\n",
    "plt.xlabel(\"Mass (g)\")\n",
    "plt.ylabel(\"Frictional Force (N)\")\n",
    "plt.legend(loc=2)\n",
    "plt.show()\n",
    "\n"
   ]
  },
  {
   "cell_type": "markdown",
   "metadata": {
    "collapsed": true
   },
   "source": [
    "### Results"
   ]
  },
  {
   "cell_type": "markdown",
   "metadata": {},
   "source": [
    "Linear equation for frictional force on an incline: \n",
    "\n",
    "$$ F_s = F_{sp} - 9.8m * Sin{\\theta} $$ \n"
   ]
  },
  {
   "cell_type": "markdown",
   "metadata": {},
   "source": [
    "### Conclusion"
   ]
  },
  {
   "cell_type": "markdown",
   "metadata": {},
   "source": [
    "Through our experiments, we found that there is a linear relationship between the mass being moved and the force required to overcome static friction. Unfortunately, our model could not be made more accurate due to imperfect conditions, an inconsistent spring scale, and possibly human error. When placed on an incline, a greater amount of force is required to overcome static friction. The higher the incline, the higher the frictional force."
   ]
  },
  {
   "cell_type": "markdown",
   "metadata": {},
   "source": [
    "***Darshan Patel, Jason Parra, and Kevin Alvarado*** "
   ]
  }
 ],
 "metadata": {
  "kernelspec": {
   "display_name": "Python 3",
   "language": "python",
   "name": "python3"
  },
  "language_info": {
   "codemirror_mode": {
    "name": "ipython",
    "version": 3
   },
   "file_extension": ".py",
   "mimetype": "text/x-python",
   "name": "python",
   "nbconvert_exporter": "python",
   "pygments_lexer": "ipython3",
   "version": "3.4.4"
  }
 },
 "nbformat": 4,
 "nbformat_minor": 0
}
